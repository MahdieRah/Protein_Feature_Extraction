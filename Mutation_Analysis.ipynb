{
  "nbformat": 4,
  "nbformat_minor": 0,
  "metadata": {
    "colab": {
      "provenance": [],
      "authorship_tag": "ABX9TyMNSkryY8/c5img4Q9TGXSO",
      "include_colab_link": true
    },
    "kernelspec": {
      "name": "python3",
      "display_name": "Python 3"
    },
    "language_info": {
      "name": "python"
    }
  },
  "cells": [
    {
      "cell_type": "markdown",
      "metadata": {
        "id": "view-in-github",
        "colab_type": "text"
      },
      "source": [
        "<a href=\"https://colab.research.google.com/github/MahdieRah/Protein_Feature_Extraction/blob/main/Mutation_Analysis.ipynb\" target=\"_parent\"><img src=\"https://colab.research.google.com/assets/colab-badge.svg\" alt=\"Open In Colab\"/></a>"
      ]
    },
    {
      "cell_type": "code",
      "source": [
        "# Upload Two PDB Files in Google Colab\n",
        "from google.colab import files\n",
        "import numpy as np\n",
        "import pandas as pd\n",
        "import os\n",
        "import matplotlib.pyplot as plt\n",
        "from mpl_toolkits.mplot3d import Axes3D\n"
      ],
      "metadata": {
        "id": "OQyAcgLTHPMB"
      },
      "execution_count": 1,
      "outputs": []
    },
    {
      "cell_type": "code",
      "source": [
        "# Upload first PDB file\n",
        "print(\"Please upload the first PDB file (wild-type)\")\n",
        "uploaded_1 = files.upload()\n",
        "pdb_file_1 = list(uploaded_1.keys())[0]\n",
        "\n",
        "# Upload second PDB file\n",
        "print(\"Please upload the second PDB file (mutant)\")\n",
        "uploaded_2 = files.upload()\n",
        "pdb_file_2 = list(uploaded_2.keys())[0]"
      ],
      "metadata": {
        "colab": {
          "base_uri": "https://localhost:8080/",
          "height": 163
        },
        "id": "3_PsxR7DGLOM",
        "outputId": "03cdcb66-abdc-4cb1-8a18-8dc23cc9e375"
      },
      "execution_count": 2,
      "outputs": [
        {
          "output_type": "stream",
          "name": "stdout",
          "text": [
            "Please upload the first PDB file (wild-type)\n"
          ]
        },
        {
          "output_type": "display_data",
          "data": {
            "text/plain": [
              "<IPython.core.display.HTML object>"
            ],
            "text/html": [
              "\n",
              "     <input type=\"file\" id=\"files-55a2cbb0-f15a-434c-becf-96ed984f4e82\" name=\"files[]\" multiple disabled\n",
              "        style=\"border:none\" />\n",
              "     <output id=\"result-55a2cbb0-f15a-434c-becf-96ed984f4e82\">\n",
              "      Upload widget is only available when the cell has been executed in the\n",
              "      current browser session. Please rerun this cell to enable.\n",
              "      </output>\n",
              "      <script>// Copyright 2017 Google LLC\n",
              "//\n",
              "// Licensed under the Apache License, Version 2.0 (the \"License\");\n",
              "// you may not use this file except in compliance with the License.\n",
              "// You may obtain a copy of the License at\n",
              "//\n",
              "//      http://www.apache.org/licenses/LICENSE-2.0\n",
              "//\n",
              "// Unless required by applicable law or agreed to in writing, software\n",
              "// distributed under the License is distributed on an \"AS IS\" BASIS,\n",
              "// WITHOUT WARRANTIES OR CONDITIONS OF ANY KIND, either express or implied.\n",
              "// See the License for the specific language governing permissions and\n",
              "// limitations under the License.\n",
              "\n",
              "/**\n",
              " * @fileoverview Helpers for google.colab Python module.\n",
              " */\n",
              "(function(scope) {\n",
              "function span(text, styleAttributes = {}) {\n",
              "  const element = document.createElement('span');\n",
              "  element.textContent = text;\n",
              "  for (const key of Object.keys(styleAttributes)) {\n",
              "    element.style[key] = styleAttributes[key];\n",
              "  }\n",
              "  return element;\n",
              "}\n",
              "\n",
              "// Max number of bytes which will be uploaded at a time.\n",
              "const MAX_PAYLOAD_SIZE = 100 * 1024;\n",
              "\n",
              "function _uploadFiles(inputId, outputId) {\n",
              "  const steps = uploadFilesStep(inputId, outputId);\n",
              "  const outputElement = document.getElementById(outputId);\n",
              "  // Cache steps on the outputElement to make it available for the next call\n",
              "  // to uploadFilesContinue from Python.\n",
              "  outputElement.steps = steps;\n",
              "\n",
              "  return _uploadFilesContinue(outputId);\n",
              "}\n",
              "\n",
              "// This is roughly an async generator (not supported in the browser yet),\n",
              "// where there are multiple asynchronous steps and the Python side is going\n",
              "// to poll for completion of each step.\n",
              "// This uses a Promise to block the python side on completion of each step,\n",
              "// then passes the result of the previous step as the input to the next step.\n",
              "function _uploadFilesContinue(outputId) {\n",
              "  const outputElement = document.getElementById(outputId);\n",
              "  const steps = outputElement.steps;\n",
              "\n",
              "  const next = steps.next(outputElement.lastPromiseValue);\n",
              "  return Promise.resolve(next.value.promise).then((value) => {\n",
              "    // Cache the last promise value to make it available to the next\n",
              "    // step of the generator.\n",
              "    outputElement.lastPromiseValue = value;\n",
              "    return next.value.response;\n",
              "  });\n",
              "}\n",
              "\n",
              "/**\n",
              " * Generator function which is called between each async step of the upload\n",
              " * process.\n",
              " * @param {string} inputId Element ID of the input file picker element.\n",
              " * @param {string} outputId Element ID of the output display.\n",
              " * @return {!Iterable<!Object>} Iterable of next steps.\n",
              " */\n",
              "function* uploadFilesStep(inputId, outputId) {\n",
              "  const inputElement = document.getElementById(inputId);\n",
              "  inputElement.disabled = false;\n",
              "\n",
              "  const outputElement = document.getElementById(outputId);\n",
              "  outputElement.innerHTML = '';\n",
              "\n",
              "  const pickedPromise = new Promise((resolve) => {\n",
              "    inputElement.addEventListener('change', (e) => {\n",
              "      resolve(e.target.files);\n",
              "    });\n",
              "  });\n",
              "\n",
              "  const cancel = document.createElement('button');\n",
              "  inputElement.parentElement.appendChild(cancel);\n",
              "  cancel.textContent = 'Cancel upload';\n",
              "  const cancelPromise = new Promise((resolve) => {\n",
              "    cancel.onclick = () => {\n",
              "      resolve(null);\n",
              "    };\n",
              "  });\n",
              "\n",
              "  // Wait for the user to pick the files.\n",
              "  const files = yield {\n",
              "    promise: Promise.race([pickedPromise, cancelPromise]),\n",
              "    response: {\n",
              "      action: 'starting',\n",
              "    }\n",
              "  };\n",
              "\n",
              "  cancel.remove();\n",
              "\n",
              "  // Disable the input element since further picks are not allowed.\n",
              "  inputElement.disabled = true;\n",
              "\n",
              "  if (!files) {\n",
              "    return {\n",
              "      response: {\n",
              "        action: 'complete',\n",
              "      }\n",
              "    };\n",
              "  }\n",
              "\n",
              "  for (const file of files) {\n",
              "    const li = document.createElement('li');\n",
              "    li.append(span(file.name, {fontWeight: 'bold'}));\n",
              "    li.append(span(\n",
              "        `(${file.type || 'n/a'}) - ${file.size} bytes, ` +\n",
              "        `last modified: ${\n",
              "            file.lastModifiedDate ? file.lastModifiedDate.toLocaleDateString() :\n",
              "                                    'n/a'} - `));\n",
              "    const percent = span('0% done');\n",
              "    li.appendChild(percent);\n",
              "\n",
              "    outputElement.appendChild(li);\n",
              "\n",
              "    const fileDataPromise = new Promise((resolve) => {\n",
              "      const reader = new FileReader();\n",
              "      reader.onload = (e) => {\n",
              "        resolve(e.target.result);\n",
              "      };\n",
              "      reader.readAsArrayBuffer(file);\n",
              "    });\n",
              "    // Wait for the data to be ready.\n",
              "    let fileData = yield {\n",
              "      promise: fileDataPromise,\n",
              "      response: {\n",
              "        action: 'continue',\n",
              "      }\n",
              "    };\n",
              "\n",
              "    // Use a chunked sending to avoid message size limits. See b/62115660.\n",
              "    let position = 0;\n",
              "    do {\n",
              "      const length = Math.min(fileData.byteLength - position, MAX_PAYLOAD_SIZE);\n",
              "      const chunk = new Uint8Array(fileData, position, length);\n",
              "      position += length;\n",
              "\n",
              "      const base64 = btoa(String.fromCharCode.apply(null, chunk));\n",
              "      yield {\n",
              "        response: {\n",
              "          action: 'append',\n",
              "          file: file.name,\n",
              "          data: base64,\n",
              "        },\n",
              "      };\n",
              "\n",
              "      let percentDone = fileData.byteLength === 0 ?\n",
              "          100 :\n",
              "          Math.round((position / fileData.byteLength) * 100);\n",
              "      percent.textContent = `${percentDone}% done`;\n",
              "\n",
              "    } while (position < fileData.byteLength);\n",
              "  }\n",
              "\n",
              "  // All done.\n",
              "  yield {\n",
              "    response: {\n",
              "      action: 'complete',\n",
              "    }\n",
              "  };\n",
              "}\n",
              "\n",
              "scope.google = scope.google || {};\n",
              "scope.google.colab = scope.google.colab || {};\n",
              "scope.google.colab._files = {\n",
              "  _uploadFiles,\n",
              "  _uploadFilesContinue,\n",
              "};\n",
              "})(self);\n",
              "</script> "
            ]
          },
          "metadata": {}
        },
        {
          "output_type": "stream",
          "name": "stdout",
          "text": [
            "Saving 1crn.pdb to 1crn.pdb\n",
            "Please upload the second PDB file (mutant)\n"
          ]
        },
        {
          "output_type": "display_data",
          "data": {
            "text/plain": [
              "<IPython.core.display.HTML object>"
            ],
            "text/html": [
              "\n",
              "     <input type=\"file\" id=\"files-5420601f-a320-41d6-8c50-1b350a9e7b55\" name=\"files[]\" multiple disabled\n",
              "        style=\"border:none\" />\n",
              "     <output id=\"result-5420601f-a320-41d6-8c50-1b350a9e7b55\">\n",
              "      Upload widget is only available when the cell has been executed in the\n",
              "      current browser session. Please rerun this cell to enable.\n",
              "      </output>\n",
              "      <script>// Copyright 2017 Google LLC\n",
              "//\n",
              "// Licensed under the Apache License, Version 2.0 (the \"License\");\n",
              "// you may not use this file except in compliance with the License.\n",
              "// You may obtain a copy of the License at\n",
              "//\n",
              "//      http://www.apache.org/licenses/LICENSE-2.0\n",
              "//\n",
              "// Unless required by applicable law or agreed to in writing, software\n",
              "// distributed under the License is distributed on an \"AS IS\" BASIS,\n",
              "// WITHOUT WARRANTIES OR CONDITIONS OF ANY KIND, either express or implied.\n",
              "// See the License for the specific language governing permissions and\n",
              "// limitations under the License.\n",
              "\n",
              "/**\n",
              " * @fileoverview Helpers for google.colab Python module.\n",
              " */\n",
              "(function(scope) {\n",
              "function span(text, styleAttributes = {}) {\n",
              "  const element = document.createElement('span');\n",
              "  element.textContent = text;\n",
              "  for (const key of Object.keys(styleAttributes)) {\n",
              "    element.style[key] = styleAttributes[key];\n",
              "  }\n",
              "  return element;\n",
              "}\n",
              "\n",
              "// Max number of bytes which will be uploaded at a time.\n",
              "const MAX_PAYLOAD_SIZE = 100 * 1024;\n",
              "\n",
              "function _uploadFiles(inputId, outputId) {\n",
              "  const steps = uploadFilesStep(inputId, outputId);\n",
              "  const outputElement = document.getElementById(outputId);\n",
              "  // Cache steps on the outputElement to make it available for the next call\n",
              "  // to uploadFilesContinue from Python.\n",
              "  outputElement.steps = steps;\n",
              "\n",
              "  return _uploadFilesContinue(outputId);\n",
              "}\n",
              "\n",
              "// This is roughly an async generator (not supported in the browser yet),\n",
              "// where there are multiple asynchronous steps and the Python side is going\n",
              "// to poll for completion of each step.\n",
              "// This uses a Promise to block the python side on completion of each step,\n",
              "// then passes the result of the previous step as the input to the next step.\n",
              "function _uploadFilesContinue(outputId) {\n",
              "  const outputElement = document.getElementById(outputId);\n",
              "  const steps = outputElement.steps;\n",
              "\n",
              "  const next = steps.next(outputElement.lastPromiseValue);\n",
              "  return Promise.resolve(next.value.promise).then((value) => {\n",
              "    // Cache the last promise value to make it available to the next\n",
              "    // step of the generator.\n",
              "    outputElement.lastPromiseValue = value;\n",
              "    return next.value.response;\n",
              "  });\n",
              "}\n",
              "\n",
              "/**\n",
              " * Generator function which is called between each async step of the upload\n",
              " * process.\n",
              " * @param {string} inputId Element ID of the input file picker element.\n",
              " * @param {string} outputId Element ID of the output display.\n",
              " * @return {!Iterable<!Object>} Iterable of next steps.\n",
              " */\n",
              "function* uploadFilesStep(inputId, outputId) {\n",
              "  const inputElement = document.getElementById(inputId);\n",
              "  inputElement.disabled = false;\n",
              "\n",
              "  const outputElement = document.getElementById(outputId);\n",
              "  outputElement.innerHTML = '';\n",
              "\n",
              "  const pickedPromise = new Promise((resolve) => {\n",
              "    inputElement.addEventListener('change', (e) => {\n",
              "      resolve(e.target.files);\n",
              "    });\n",
              "  });\n",
              "\n",
              "  const cancel = document.createElement('button');\n",
              "  inputElement.parentElement.appendChild(cancel);\n",
              "  cancel.textContent = 'Cancel upload';\n",
              "  const cancelPromise = new Promise((resolve) => {\n",
              "    cancel.onclick = () => {\n",
              "      resolve(null);\n",
              "    };\n",
              "  });\n",
              "\n",
              "  // Wait for the user to pick the files.\n",
              "  const files = yield {\n",
              "    promise: Promise.race([pickedPromise, cancelPromise]),\n",
              "    response: {\n",
              "      action: 'starting',\n",
              "    }\n",
              "  };\n",
              "\n",
              "  cancel.remove();\n",
              "\n",
              "  // Disable the input element since further picks are not allowed.\n",
              "  inputElement.disabled = true;\n",
              "\n",
              "  if (!files) {\n",
              "    return {\n",
              "      response: {\n",
              "        action: 'complete',\n",
              "      }\n",
              "    };\n",
              "  }\n",
              "\n",
              "  for (const file of files) {\n",
              "    const li = document.createElement('li');\n",
              "    li.append(span(file.name, {fontWeight: 'bold'}));\n",
              "    li.append(span(\n",
              "        `(${file.type || 'n/a'}) - ${file.size} bytes, ` +\n",
              "        `last modified: ${\n",
              "            file.lastModifiedDate ? file.lastModifiedDate.toLocaleDateString() :\n",
              "                                    'n/a'} - `));\n",
              "    const percent = span('0% done');\n",
              "    li.appendChild(percent);\n",
              "\n",
              "    outputElement.appendChild(li);\n",
              "\n",
              "    const fileDataPromise = new Promise((resolve) => {\n",
              "      const reader = new FileReader();\n",
              "      reader.onload = (e) => {\n",
              "        resolve(e.target.result);\n",
              "      };\n",
              "      reader.readAsArrayBuffer(file);\n",
              "    });\n",
              "    // Wait for the data to be ready.\n",
              "    let fileData = yield {\n",
              "      promise: fileDataPromise,\n",
              "      response: {\n",
              "        action: 'continue',\n",
              "      }\n",
              "    };\n",
              "\n",
              "    // Use a chunked sending to avoid message size limits. See b/62115660.\n",
              "    let position = 0;\n",
              "    do {\n",
              "      const length = Math.min(fileData.byteLength - position, MAX_PAYLOAD_SIZE);\n",
              "      const chunk = new Uint8Array(fileData, position, length);\n",
              "      position += length;\n",
              "\n",
              "      const base64 = btoa(String.fromCharCode.apply(null, chunk));\n",
              "      yield {\n",
              "        response: {\n",
              "          action: 'append',\n",
              "          file: file.name,\n",
              "          data: base64,\n",
              "        },\n",
              "      };\n",
              "\n",
              "      let percentDone = fileData.byteLength === 0 ?\n",
              "          100 :\n",
              "          Math.round((position / fileData.byteLength) * 100);\n",
              "      percent.textContent = `${percentDone}% done`;\n",
              "\n",
              "    } while (position < fileData.byteLength);\n",
              "  }\n",
              "\n",
              "  // All done.\n",
              "  yield {\n",
              "    response: {\n",
              "      action: 'complete',\n",
              "    }\n",
              "  };\n",
              "}\n",
              "\n",
              "scope.google = scope.google || {};\n",
              "scope.google.colab = scope.google.colab || {};\n",
              "scope.google.colab._files = {\n",
              "  _uploadFiles,\n",
              "  _uploadFilesContinue,\n",
              "};\n",
              "})(self);\n",
              "</script> "
            ]
          },
          "metadata": {}
        },
        {
          "output_type": "stream",
          "name": "stdout",
          "text": [
            "Saving 1a6m.pdb to 1a6m.pdb\n"
          ]
        }
      ]
    },
    {
      "cell_type": "code",
      "source": [
        "print(f\"Uploaded files: {pdb_file_1}, {pdb_file_2}\")"
      ],
      "metadata": {
        "colab": {
          "base_uri": "https://localhost:8080/"
        },
        "id": "C4uCaa7jGa1U",
        "outputId": "bb44186e-e4fc-4212-f582-a57a1ddf044d"
      },
      "execution_count": 3,
      "outputs": [
        {
          "output_type": "stream",
          "name": "stdout",
          "text": [
            "Uploaded files: 1crn.pdb, 1a6m.pdb\n"
          ]
        }
      ]
    },
    {
      "cell_type": "code",
      "source": [
        "# Parse the PDB file into a DataFrame\n",
        "def parse_pdb_to_df(file_path):\n",
        "    columns = ['atom_name', 'residue_name', 'chain_id', 'residue_number', 'x', 'y', 'z']\n",
        "    data = []\n",
        "    with open(file_path, 'r') as pdb_file:\n",
        "        for line in pdb_file:\n",
        "            if line.startswith(\"ATOM\") or line.startswith(\"HETATM\"):\n",
        "                atom_name = line[12:16].strip()\n",
        "                residue_name = line[17:20].strip()\n",
        "                chain_id = line[21].strip()\n",
        "                residue_number = int(line[22:26].strip())\n",
        "                x = float(line[30:38].strip())\n",
        "                y = float(line[38:46].strip())\n",
        "                z = float(line[46:54].strip())\n",
        "                data.append([atom_name, residue_name, chain_id, residue_number, x, y, z])\n",
        "    return pd.DataFrame(data, columns=columns)"
      ],
      "metadata": {
        "id": "jnG4KnMhGgSK"
      },
      "execution_count": 24,
      "outputs": []
    },
    {
      "cell_type": "code",
      "source": [
        "# Parse wild-type (WT) and mutant (MT) PDB files into DataFrames\n",
        "df_wt = parse_pdb_to_df(pdb_file_1)\n",
        "df_mt = parse_pdb_to_df(pdb_file_2)\n",
        "\n",
        "print(\"\\nSample of Wild-Type DataFrame:\")\n",
        "print(df_wt.head())\n",
        "\n",
        "print(\"\\nSample of Mutant DataFrame:\")\n",
        "print(df_mt.head())\n"
      ],
      "metadata": {
        "colab": {
          "base_uri": "https://localhost:8080/"
        },
        "id": "ejEMkfz-IQeh",
        "outputId": "da54c528-8525-4364-bbbd-db0654eafca6"
      },
      "execution_count": 25,
      "outputs": [
        {
          "output_type": "stream",
          "name": "stdout",
          "text": [
            "\n",
            "Sample of Wild-Type DataFrame:\n",
            "  atom_name residue_name chain_id  residue_number       x       y      z\n",
            "0         N          THR        A               1  17.047  14.099  3.625\n",
            "1        CA          THR        A               1  16.967  12.784  4.338\n",
            "2         C          THR        A               1  15.685  12.755  5.133\n",
            "3         O          THR        A               1  15.268  13.825  5.594\n",
            "4        CB          THR        A               1  18.170  12.703  5.337\n",
            "\n",
            "Sample of Mutant DataFrame:\n",
            "  atom_name residue_name chain_id  residue_number      x       y       z\n",
            "0         N          VAL        A               1 -4.004  15.224  13.636\n",
            "1        CA          VAL        A               1 -3.526  15.758  14.900\n",
            "2         C          VAL        A               1 -2.662  14.733  15.628\n",
            "3         O          VAL        A               1 -3.053  13.569  15.714\n",
            "4        CB          VAL        A               1 -4.657  16.165  15.809\n"
          ]
        }
      ]
    },
    {
      "cell_type": "code",
      "source": [
        "# Ensure Matching Atom Counts\n",
        "min_atoms = min(len(df_wt), len(df_mt))\n",
        "df_wt = df_wt.iloc[:min_atoms]\n",
        "df_mt = df_mt.iloc[:min_atoms]"
      ],
      "metadata": {
        "id": "MhbprPlzI2sS"
      },
      "execution_count": 26,
      "outputs": []
    },
    {
      "cell_type": "code",
      "source": [
        "# Track Mutations\n",
        "mutations = df_wt[df_wt['residue_name'] != df_mt['residue_name']]\n",
        "mutations['mutant_residue'] = df_mt.loc[mutations.index, 'residue_name']\n",
        "\n",
        "print(\"\\nMutations Detected:\")\n",
        "print(mutations[['residue_name', 'mutant_residue', 'residue_number', 'chain_id']])"
      ],
      "metadata": {
        "colab": {
          "base_uri": "https://localhost:8080/"
        },
        "id": "0pNamqTdJEFh",
        "outputId": "2bd0bd9c-86a7-4bb1-f3c7-339f2b5fe6b7"
      },
      "execution_count": 27,
      "outputs": [
        {
          "output_type": "stream",
          "name": "stdout",
          "text": [
            "\n",
            "Mutations Detected:\n",
            "    residue_name mutant_residue  residue_number chain_id\n",
            "0            THR            VAL               1        A\n",
            "1            THR            VAL               1        A\n",
            "2            THR            VAL               1        A\n",
            "3            THR            VAL               1        A\n",
            "4            THR            VAL               1        A\n",
            "..           ...            ...             ...      ...\n",
            "322          ASN            GLU              46        A\n",
            "323          ASN            GLU              46        A\n",
            "324          ASN            GLU              46        A\n",
            "325          ASN            GLU              46        A\n",
            "326          ASN            GLU              46        A\n",
            "\n",
            "[314 rows x 4 columns]\n"
          ]
        },
        {
          "output_type": "stream",
          "name": "stderr",
          "text": [
            "<ipython-input-27-d9730f8ae7b6>:3: SettingWithCopyWarning: \n",
            "A value is trying to be set on a copy of a slice from a DataFrame.\n",
            "Try using .loc[row_indexer,col_indexer] = value instead\n",
            "\n",
            "See the caveats in the documentation: https://pandas.pydata.org/pandas-docs/stable/user_guide/indexing.html#returning-a-view-versus-a-copy\n",
            "  mutations['mutant_residue'] = df_mt.loc[mutations.index, 'residue_name']\n"
          ]
        }
      ]
    },
    {
      "cell_type": "code",
      "source": [
        "# Detailed Mutation Report\n",
        "mutation_report = mutations.merge(df_mt[['atom_name', 'residue_name', 'chain_id', 'residue_number']],\n",
        "                                  on=['residue_number', 'chain_id'], suffixes=('_wt', '_mt'))\n",
        "print(\"\\nDetailed Mutation Report:\")\n",
        "# Access the renamed 'atom_name' column (likely 'atom_name_mt')\n",
        "print(mutation_report[['atom_name_mt', 'residue_name_wt', 'residue_name_mt', 'residue_number', 'chain_id']])"
      ],
      "metadata": {
        "colab": {
          "base_uri": "https://localhost:8080/"
        },
        "id": "knUPLIREN6fP",
        "outputId": "d6d525cc-5ddf-4fe2-d96a-a4b92958bdf2"
      },
      "execution_count": 29,
      "outputs": [
        {
          "output_type": "stream",
          "name": "stdout",
          "text": [
            "\n",
            "Detailed Mutation Report:\n",
            "     atom_name_mt residue_name_wt residue_name_mt  residue_number chain_id\n",
            "0               N             THR             VAL               1        A\n",
            "1              CA             THR             VAL               1        A\n",
            "2               C             THR             VAL               1        A\n",
            "3               O             THR             VAL               1        A\n",
            "4              CB             THR             VAL               1        A\n",
            "...           ...             ...             ...             ...      ...\n",
            "2147           CB             ALA             GLU              38        A\n",
            "2148           CG             ALA             GLU              38        A\n",
            "2149           CD             ALA             GLU              38        A\n",
            "2150          OE1             ALA             GLU              38        A\n",
            "2151          OE2             ALA             GLU              38        A\n",
            "\n",
            "[2152 rows x 5 columns]\n"
          ]
        }
      ]
    },
    {
      "cell_type": "code",
      "source": [
        "# Extract Coordinates\n",
        "coords_wt = df_wt[['x', 'y', 'z']].to_numpy()\n",
        "coords_mt = df_mt[['x', 'y', 'z']].to_numpy()\n"
      ],
      "metadata": {
        "id": "VLA-aUrLJMao"
      },
      "execution_count": 30,
      "outputs": []
    },
    {
      "cell_type": "code",
      "source": [
        "# RMSD Calculation\n",
        "def calculate_rmsd(P, Q):\n",
        "    return np.sqrt(np.mean(np.sum((P - Q) ** 2, axis=1)))\n",
        "\n",
        "rmsd_wt_vs_mt = calculate_rmsd(coords_wt, coords_mt)\n",
        "print(f\"\\nGlobal RMSD (WT vs. MT): {rmsd_wt_vs_mt:.4f} Å\")"
      ],
      "metadata": {
        "colab": {
          "base_uri": "https://localhost:8080/"
        },
        "id": "cejiD54mJUdZ",
        "outputId": "a55f008c-d982-43a4-f78f-da59b47cd6cb"
      },
      "execution_count": 31,
      "outputs": [
        {
          "output_type": "stream",
          "name": "stdout",
          "text": [
            "\n",
            "Global RMSD (WT vs. MT): 21.0557 Å\n"
          ]
        }
      ]
    },
    {
      "cell_type": "code",
      "source": [
        "# Per-Residue RMSD Calculation\n",
        "def calculate_per_residue_rmsd(P, Q):\n",
        "    return np.sqrt(np.sum((P - Q) ** 2, axis=1))\n",
        "\n",
        "df_wt['rmsd_per_residue'] = calculate_per_residue_rmsd(coords_wt, coords_mt)\n"
      ],
      "metadata": {
        "id": "XKcP6bp8JbYh"
      },
      "execution_count": 32,
      "outputs": []
    },
    {
      "cell_type": "code",
      "source": [
        "# Identify Structural Hotspots (High RMSD Regions)\n",
        "rmsd_threshold = 2.0\n",
        "hotspots = df_wt[df_wt['rmsd_per_residue'] > rmsd_threshold]\n",
        "print(\"\\nStructural Hotspots (RMSD > 2.0 Å):\")\n",
        "print(hotspots[['residue_name', 'residue_number', 'rmsd_per_residue']])"
      ],
      "metadata": {
        "colab": {
          "base_uri": "https://localhost:8080/"
        },
        "id": "kTcSmRXVJkqo",
        "outputId": "a5773a15-de3c-4c7b-d413-52c99178516b"
      },
      "execution_count": 33,
      "outputs": [
        {
          "output_type": "stream",
          "name": "stdout",
          "text": [
            "\n",
            "Structural Hotspots (RMSD > 2.0 Å):\n",
            "    residue_name  residue_number  rmsd_per_residue\n",
            "0            THR               1         23.337317\n",
            "1            THR               1         23.245722\n",
            "2            THR               1         21.228988\n",
            "3            THR               1         20.931770\n",
            "4            THR               1         25.351926\n",
            "..           ...             ...               ...\n",
            "322          ASN              46         27.169246\n",
            "323          ASN              46         27.252413\n",
            "324          ASN              46         27.026236\n",
            "325          ASN              46         26.848903\n",
            "326          ASN              46         22.110080\n",
            "\n",
            "[327 rows x 3 columns]\n"
          ]
        }
      ]
    },
    {
      "cell_type": "code",
      "source": [
        "# Visualize RMSD Distribution\n",
        "plt.figure(figsize=(12, 6))\n",
        "plt.hist(df_wt['rmsd_per_residue'], bins=50, color='purple')\n",
        "plt.axvline(rmsd_threshold, color='red', linestyle='--', label='Hotspot Threshold')\n",
        "plt.title(\"RMSD Distribution (WT vs. MT)\")\n",
        "plt.xlabel(\"RMSD (Å)\")\n",
        "plt.ylabel(\"Frequency\")\n",
        "plt.legend()\n",
        "plt.grid(True)\n",
        "plt.show()\n"
      ],
      "metadata": {
        "colab": {
          "base_uri": "https://localhost:8080/",
          "height": 565
        },
        "id": "G-r26kpLJtTa",
        "outputId": "fab4bbee-7f2b-4c08-9e7c-ab38f5946dff"
      },
      "execution_count": 34,
      "outputs": [
        {
          "output_type": "display_data",
          "data": {
            "text/plain": [
              "<Figure size 1200x600 with 1 Axes>"
            ],
            "image/png": "[encoded data removed]"
          },
          "metadata": {}
        }
      ]
    },
    {
      "cell_type": "code",
      "source": [
        "# Save Mutation Analysis to CSV\n",
        "mutation_report.to_csv('detailed_mutation_report.csv', index=False)\n",
        "print(\"\\nDetailed mutation analysis saved to 'detailed_mutation_report.csv'\")\n"
      ],
      "metadata": {
        "colab": {
          "base_uri": "https://localhost:8080/"
        },
        "id": "rd4gGm9WJ23R",
        "outputId": "61bfd169-6fbf-46df-fba6-81c1532ce526"
      },
      "execution_count": 35,
      "outputs": [
        {
          "output_type": "stream",
          "name": "stdout",
          "text": [
            "\n",
            "Detailed mutation analysis saved to 'detailed_mutation_report.csv'\n"
          ]
        }
      ]
    },
    {
      "cell_type": "code",
      "source": [
        "mutations['mutant_residue'] = df_mt.loc[mutations.index, 'residue_name']\n",
        "print(mutations[['residue_name', 'mutant_residue', 'residue_number', 'chain_id']])\n"
      ],
      "metadata": {
        "colab": {
          "base_uri": "https://localhost:8080/"
        },
        "id": "VojvaDQqMC03",
        "outputId": "4b6789a0-38be-499c-dffd-8d87ff9a87a5"
      },
      "execution_count": 36,
      "outputs": [
        {
          "output_type": "stream",
          "name": "stdout",
          "text": [
            "    residue_name mutant_residue  residue_number chain_id\n",
            "0            THR            VAL               1        A\n",
            "1            THR            VAL               1        A\n",
            "2            THR            VAL               1        A\n",
            "3            THR            VAL               1        A\n",
            "4            THR            VAL               1        A\n",
            "..           ...            ...             ...      ...\n",
            "322          ASN            GLU              46        A\n",
            "323          ASN            GLU              46        A\n",
            "324          ASN            GLU              46        A\n",
            "325          ASN            GLU              46        A\n",
            "326          ASN            GLU              46        A\n",
            "\n",
            "[314 rows x 4 columns]\n"
          ]
        },
        {
          "output_type": "stream",
          "name": "stderr",
          "text": [
            "<ipython-input-36-8ab64ffeb13a>:1: SettingWithCopyWarning: \n",
            "A value is trying to be set on a copy of a slice from a DataFrame.\n",
            "Try using .loc[row_indexer,col_indexer] = value instead\n",
            "\n",
            "See the caveats in the documentation: https://pandas.pydata.org/pandas-docs/stable/user_guide/indexing.html#returning-a-view-versus-a-copy\n",
            "  mutations['mutant_residue'] = df_mt.loc[mutations.index, 'residue_name']\n"
          ]
        }
      ]
    },
    {
      "cell_type": "code",
      "source": [],
      "metadata": {
        "id": "ghP5XXS9MPmI"
      },
      "execution_count": null,
      "outputs": []
    }
  ]
}