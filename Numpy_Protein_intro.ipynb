{
  "nbformat": 4,
  "nbformat_minor": 0,
  "metadata": {
    "colab": {
      "provenance": [],
      "authorship_tag": "ABX9TyNe1VL7OTE6nTfihSPZczwn",
      "include_colab_link": true
    },
    "kernelspec": {
      "name": "python3",
      "display_name": "Python 3"
    },
    "language_info": {
      "name": "python"
    }
  },
  "cells": [
    {
      "cell_type": "markdown",
      "metadata": {
        "id": "view-in-github",
        "colab_type": "text"
      },
      "source": [
        "<a href=\"https://colab.research.google.com/github/MahdieRah/Protein_Feature_Extraction/blob/main/Numpy_Protein_intro.ipynb\" target=\"_parent\"><img src=\"https://colab.research.google.com/assets/colab-badge.svg\" alt=\"Open In Colab\"/></a>"
      ]
    },
    {
      "cell_type": "markdown",
      "source": [
        "Random Mutation"
      ],
      "metadata": {
        "id": "7G_ltQaAV76G"
      }
    },
    {
      "cell_type": "code",
      "source": [
        "import numpy as np\n",
        "import random"
      ],
      "metadata": {
        "id": "plKg92wpO7MS"
      },
      "execution_count": 11,
      "outputs": []
    },
    {
      "cell_type": "code",
      "source": [
        "protein_sequence = 'MKTLLILAVIMAS'  # Example protein (Methionine, Lysine, etc.)\n",
        "amino_acid_map = {\n",
        "    'A': 0, 'R': 1, 'N': 2, 'D': 3, 'C': 4, 'E': 5, 'Q': 6, 'G': 7, 'H': 8, 'I': 9,\n",
        "    'L': 10, 'K': 11, 'M': 12, 'F': 13, 'P': 14, 'S': 15, 'T': 16, 'W': 17, 'Y': 18, 'V': 19\n",
        "}\n"
      ],
      "metadata": {
        "id": "_YXWPhFWKZZi"
      },
      "execution_count": 12,
      "outputs": []
    },
    {
      "cell_type": "code",
      "source": [
        "# Reverse map for decoding\n",
        "reverse_amino_acid_map = {v: k for k, v in amino_acid_map.items()}"
      ],
      "metadata": {
        "id": "jRF6EIl2P14I"
      },
      "execution_count": 13,
      "outputs": []
    },
    {
      "cell_type": "code",
      "source": [
        "protein_array = np.array([amino_acid_map[aa] for aa in protein_sequence])\n",
        "print(\"Protein sequence:\", protein_sequence)\n",
        "print(\"Numerical representation:\", protein_array)\n",
        "print(\"Length of protein:\", protein_array.size)"
      ],
      "metadata": {
        "colab": {
          "base_uri": "https://localhost:8080/"
        },
        "id": "AxlSgPHVLIWf",
        "outputId": "fcca3bbc-c9cb-4645-9823-442dd7a17a30"
      },
      "execution_count": 14,
      "outputs": [
        {
          "output_type": "stream",
          "name": "stdout",
          "text": [
            "Protein sequence: MKTLLILAVIMAS\n",
            "Numerical representation: [12 11 16 10 10  9 10  0 19  9 12  0 15]\n",
            "Length of protein: 13\n"
          ]
        }
      ]
    },
    {
      "cell_type": "code",
      "source": [
        "# Frequency of each amino acid\n",
        "unique, counts = np.unique(protein_array, return_counts=True)\n",
        "amino_acid_counts = dict(zip(unique, counts))"
      ],
      "metadata": {
        "id": "eMLU7l3-M59Q"
      },
      "execution_count": 15,
      "outputs": []
    },
    {
      "cell_type": "code",
      "source": [
        "# Decode frequencies back to amino acids\n",
        "decoded_counts = {list(amino_acid_map.keys())[list(amino_acid_map.values()).index(k)]: v for k, v in amino_acid_counts.items()}\n",
        "print(\"Amino acid frequency:\", decoded_counts)"
      ],
      "metadata": {
        "colab": {
          "base_uri": "https://localhost:8080/"
        },
        "id": "7hInE8OdNJBO",
        "outputId": "d2f0078b-d828-4a77-856b-55fb25ae008b"
      },
      "execution_count": 16,
      "outputs": [
        {
          "output_type": "stream",
          "name": "stdout",
          "text": [
            "Amino acid frequency: {'A': np.int64(2), 'I': np.int64(2), 'L': np.int64(3), 'K': np.int64(1), 'M': np.int64(2), 'S': np.int64(1), 'T': np.int64(1), 'V': np.int64(1)}\n"
          ]
        }
      ]
    },
    {
      "cell_type": "code",
      "source": [
        "# Step 5: Simulate mutations\n",
        "num_mutations = 3  # Number of mutations to simulate\n",
        "mutation_indices = random.sample(range(protein_array.size), num_mutations)\n"
      ],
      "metadata": {
        "id": "QqwBeaZGQaKQ"
      },
      "execution_count": 17,
      "outputs": []
    },
    {
      "cell_type": "code",
      "source": [
        "# Randomly mutate amino acids\n",
        "mutated_array = protein_array.copy()\n",
        "for idx in mutation_indices:\n",
        "    original_aa = mutated_array[idx]\n",
        "    new_aa = original_aa\n",
        "    while new_aa == original_aa:\n",
        "        new_aa = random.randint(0, 19)  # Random new amino acid\n",
        "    mutated_array[idx] = new_aa\n"
      ],
      "metadata": {
        "id": "otkuXltMQqZX"
      },
      "execution_count": 18,
      "outputs": []
    },
    {
      "cell_type": "code",
      "source": [
        "# Display mutation results\n",
        "mutated_sequence = ''.join(reverse_amino_acid_map[aa] for aa in mutated_array)\n",
        "print(\"Mutated sequence:\", mutated_sequence)"
      ],
      "metadata": {
        "colab": {
          "base_uri": "https://localhost:8080/"
        },
        "id": "GvWPLDeCTHA4",
        "outputId": "30df582d-d1fa-41d5-bb06-71a0302683cf"
      },
      "execution_count": 19,
      "outputs": [
        {
          "output_type": "stream",
          "name": "stdout",
          "text": [
            "Mutated sequence: MKLLLVLAVIMCS\n"
          ]
        }
      ]
    },
    {
      "cell_type": "code",
      "source": [
        "# Frequency of amino acids after mutation\n",
        "unique_mut, counts_mut = np.unique(mutated_array, return_counts=True)\n",
        "mutated_counts = {reverse_amino_acid_map[k]: v for k, v in zip(unique_mut, counts_mut)}\n",
        "\n",
        "print(\"Amino acid frequency after mutation:\", mutated_counts)\n"
      ],
      "metadata": {
        "colab": {
          "base_uri": "https://localhost:8080/"
        },
        "id": "l3oMr1JqTMzn",
        "outputId": "9a039163-3299-4e63-bfd1-6370f9a0cbc8"
      },
      "execution_count": 20,
      "outputs": [
        {
          "output_type": "stream",
          "name": "stdout",
          "text": [
            "Amino acid frequency after mutation: {'A': np.int64(1), 'C': np.int64(1), 'I': np.int64(1), 'L': np.int64(4), 'K': np.int64(1), 'M': np.int64(2), 'S': np.int64(1), 'V': np.int64(2)}\n"
          ]
        }
      ]
    },
    {
      "cell_type": "markdown",
      "source": [
        "Custom Amino Acid Mutations"
      ],
      "metadata": {
        "id": "wrTVJyD6Vt32"
      }
    },
    {
      "cell_type": "code",
      "source": [
        "import numpy as np"
      ],
      "metadata": {
        "id": "nQhe7ryrVyVS"
      },
      "execution_count": 21,
      "outputs": []
    },
    {
      "cell_type": "code",
      "source": [
        "# Create a protein sequence\n",
        "protein_sequence = 'MKTLLILAVIMAS'  # Example protein (Methionine, Lysine, etc.)\n",
        "# Map amino acids to numbers\n",
        "amino_acid_map = {\n",
        "    'A': 0, 'R': 1, 'N': 2, 'D': 3, 'C': 4, 'E': 5, 'Q': 6, 'G': 7, 'H': 8, 'I': 9,\n",
        "    'L': 10, 'K': 11, 'M': 12, 'F': 13, 'P': 14, 'S': 15, 'T': 16, 'W': 17, 'Y': 18, 'V': 19\n",
        "}\n"
      ],
      "metadata": {
        "id": "HzQCyzdvWgOG"
      },
      "execution_count": 22,
      "outputs": []
    },
    {
      "cell_type": "code",
      "source": [
        "# Reverse map for decoding\n",
        "reverse_amino_acid_map = {v: k for k, v in amino_acid_map.items()}\n",
        "\n",
        "# Convert the sequence to a NumPy array\n",
        "protein_array = np.array([amino_acid_map[aa] for aa in protein_sequence])\n",
        "\n",
        "print(\"Original protein sequence:\", protein_sequence)\n",
        "print(\"Numerical representation:\", protein_array)\n",
        "print(\"Length of protein:\", protein_array.size)"
      ],
      "metadata": {
        "colab": {
          "base_uri": "https://localhost:8080/"
        },
        "id": "z0RtBN4uWl-G",
        "outputId": "1e9355a6-dc1d-418e-eff7-495da203ce89"
      },
      "execution_count": 23,
      "outputs": [
        {
          "output_type": "stream",
          "name": "stdout",
          "text": [
            "Original protein sequence: MKTLLILAVIMAS\n",
            "Numerical representation: [12 11 16 10 10  9 10  0 19  9 12  0 15]\n",
            "Length of protein: 13\n"
          ]
        }
      ]
    },
    {
      "cell_type": "code",
      "source": [
        "# Frequency of each amino acid\n",
        "unique, counts = np.unique(protein_array, return_counts=True)\n",
        "amino_acid_counts = dict(zip(unique, counts))\n",
        "\n",
        "# Decode frequencies back to amino acids\n",
        "decoded_counts = {reverse_amino_acid_map[k]: v for k, v in amino_acid_counts.items()}\n",
        "print(\"Amino acid frequency:\", decoded_counts)"
      ],
      "metadata": {
        "colab": {
          "base_uri": "https://localhost:8080/"
        },
        "id": "kTe62HmTW3Dc",
        "outputId": "c2836d2b-6ba7-4e85-d180-3c020793fec1"
      },
      "execution_count": 24,
      "outputs": [
        {
          "output_type": "stream",
          "name": "stdout",
          "text": [
            "Amino acid frequency: {'A': np.int64(2), 'I': np.int64(2), 'L': np.int64(3), 'K': np.int64(1), 'M': np.int64(2), 'S': np.int64(1), 'T': np.int64(1), 'V': np.int64(1)}\n"
          ]
        }
      ]
    },
    {
      "cell_type": "code",
      "source": [
        "# Step 5: Apply custom mutations\n",
        "custom_mutations = [(2, 'A'), (5, 'W'), (10, 'R')]  # (position, new_amino_acid)\n",
        "\n",
        "mutated_array = protein_array.copy()\n",
        "\n",
        "for pos, new_aa in custom_mutations:\n",
        "    if 0 <= pos < mutated_array.size and new_aa in amino_acid_map:\n",
        "        mutated_array[pos] = amino_acid_map[new_aa]\n",
        "    else:\n",
        "        print(f\"Invalid mutation: position {pos} or amino acid {new_aa}\")\n"
      ],
      "metadata": {
        "id": "VGT8EVQMXWmD"
      },
      "execution_count": 32,
      "outputs": []
    },
    {
      "cell_type": "code",
      "source": [
        "# Display mutation results\n",
        "mutated_sequence = ''.join(reverse_amino_acid_map[aa] for aa in mutated_array)\n",
        "print(\"Mutated sequence:\", mutated_sequence)\n"
      ],
      "metadata": {
        "colab": {
          "base_uri": "https://localhost:8080/"
        },
        "id": "ixManWs1XjxK",
        "outputId": "b72d7663-917f-4076-eb88-7599f419f9eb"
      },
      "execution_count": 33,
      "outputs": [
        {
          "output_type": "stream",
          "name": "stdout",
          "text": [
            "Mutated sequence: MKALLWLAVIRAS\n"
          ]
        }
      ]
    },
    {
      "cell_type": "code",
      "source": [
        "# Frequency of amino acids after mutation\n",
        "unique_mut, counts_mut = np.unique(mutated_array, return_counts=True)\n",
        "mutated_counts = {reverse_amino_acid_map[k]: v for k, v in zip(unique_mut, counts_mut)}\n",
        "\n",
        "print(\"Amino acid frequency after mutation:\", mutated_counts)"
      ],
      "metadata": {
        "colab": {
          "base_uri": "https://localhost:8080/"
        },
        "id": "ddpm8LYTXqZc",
        "outputId": "f4c9b0ef-bf60-452a-c9e8-40a8a1f387bb"
      },
      "execution_count": 34,
      "outputs": [
        {
          "output_type": "stream",
          "name": "stdout",
          "text": [
            "Amino acid frequency after mutation: {'A': np.int64(3), 'R': np.int64(1), 'I': np.int64(1), 'L': np.int64(3), 'K': np.int64(1), 'M': np.int64(1), 'S': np.int64(1), 'W': np.int64(1), 'V': np.int64(1)}\n"
          ]
        }
      ]
    }
  ]
}